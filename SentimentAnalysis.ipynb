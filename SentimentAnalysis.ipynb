{
 "cells": [
  {
   "cell_type": "code",
   "execution_count": 1,
   "id": "f46d8f11-e26d-40cd-a8b8-df99f8b074b6",
   "metadata": {
    "tags": []
   },
   "outputs": [
    {
     "name": "stdout",
     "output_type": "stream",
     "text": [
      "Requirement already satisfied: flask in /opt/conda/lib/python3.10/site-packages (3.0.3)\n",
      "Requirement already satisfied: flask-cors in /opt/conda/lib/python3.10/site-packages (5.0.0)\n",
      "Requirement already satisfied: Werkzeug>=3.0.0 in /opt/conda/lib/python3.10/site-packages (from flask) (3.0.4)\n",
      "Requirement already satisfied: Jinja2>=3.1.2 in /opt/conda/lib/python3.10/site-packages (from flask) (3.1.4)\n",
      "Requirement already satisfied: itsdangerous>=2.1.2 in /opt/conda/lib/python3.10/site-packages (from flask) (2.2.0)\n",
      "Requirement already satisfied: click>=8.1.3 in /opt/conda/lib/python3.10/site-packages (from flask) (8.1.7)\n",
      "Requirement already satisfied: blinker>=1.6.2 in /opt/conda/lib/python3.10/site-packages (from flask) (1.8.2)\n",
      "Requirement already satisfied: MarkupSafe>=2.0 in /opt/conda/lib/python3.10/site-packages (from Jinja2>=3.1.2->flask) (2.1.5)\n",
      "Note: you may need to restart the kernel to use updated packages.\n"
     ]
    }
   ],
   "source": [
    "pip install flask flask-cors"
   ]
  },
  {
   "cell_type": "code",
   "execution_count": 2,
   "id": "bb595de1-6db4-404f-aa60-dc14be9cea35",
   "metadata": {
    "tags": []
   },
   "outputs": [],
   "source": [
    "from google.cloud import language_v1\n",
    "import six\n",
    "from flask import Flask, request, jsonify\n",
    "from flask_cors import CORS\n",
    "from google.cloud import aiplatform\n",
    "\n",
    "\n",
    "def sample_analyze_sentiment(content):\n",
    "\n",
    "    client = language_v1.LanguageServiceClient()\n",
    "\n",
    "    # content = 'Your text to analyze, e.g. Hello, world!'\n",
    "\n",
    "    if isinstance(content, six.binary_type):\n",
    "        content = content.decode(\"utf-8\")\n",
    "\n",
    "    #type_ = language_v1.Document.Type.PLAIN_TEXT\n",
    "    document = {\"type\": \"PLAIN_TEXT\", \"content\": content}\n",
    "\n",
    "    response = client.analyze_sentiment(document = document)\n",
    "    sentiment = response.document_sentiment\n",
    "    print(\"Score: {}\".format(sentiment.score))\n",
    "    print(\"Magnitude: {}\".format(sentiment.magnitude))\n",
    "    return sentiment"
   ]
  },
  {
   "cell_type": "code",
   "execution_count": 3,
   "id": "2581552a-7dcc-49bb-8197-18d6944ff649",
   "metadata": {
    "tags": []
   },
   "outputs": [
    {
     "name": "stdout",
     "output_type": "stream",
     "text": [
      "Score: 0.8999999761581421\n",
      "Magnitude: 0.8999999761581421\n"
     ]
    },
    {
     "data": {
      "text/plain": [
       "magnitude: 0.8999999761581421\n",
       "score: 0.8999999761581421"
      ]
     },
     "execution_count": 3,
     "metadata": {},
     "output_type": "execute_result"
    }
   ],
   "source": [
    "sample_analyze_sentiment(\"its a nice day\")"
   ]
  },
  {
   "cell_type": "code",
   "execution_count": null,
   "id": "9f0e4521-2b52-4e9d-aaed-a711ae8074dd",
   "metadata": {
    "tags": []
   },
   "outputs": [
    {
     "name": "stdout",
     "output_type": "stream",
     "text": [
      " * Serving Flask app '__main__'\n",
      " * Debug mode: off\n"
     ]
    },
    {
     "name": "stderr",
     "output_type": "stream",
     "text": [
      "WARNING: This is a development server. Do not use it in a production deployment. Use a production WSGI server instead.\n",
      " * Running on all addresses (0.0.0.0)\n",
      " * Running on http://127.0.0.1:5000\n",
      " * Running on http://10.154.0.2:5000\n",
      "Press CTRL+C to quit\n",
      "89.197.172.90 - - [02/Oct/2024 08:26:01] \"OPTIONS /sentiment HTTP/1.1\" 200 -\n",
      "89.197.172.90 - - [02/Oct/2024 08:26:01] \"POST /sentiment HTTP/1.1\" 200 -\n"
     ]
    },
    {
     "name": "stdout",
     "output_type": "stream",
     "text": [
      "Score: 0.10000000149011612\n",
      "Magnitude: 0.10000000149011612\n"
     ]
    },
    {
     "name": "stderr",
     "output_type": "stream",
     "text": [
      "89.197.172.90 - - [02/Oct/2024 08:26:20] \"OPTIONS /sentiment HTTP/1.1\" 200 -\n",
      "89.197.172.90 - - [02/Oct/2024 08:26:21] \"POST /sentiment HTTP/1.1\" 200 -\n"
     ]
    },
    {
     "name": "stdout",
     "output_type": "stream",
     "text": [
      "Score: 0.8999999761581421\n",
      "Magnitude: 0.8999999761581421\n"
     ]
    },
    {
     "name": "stderr",
     "output_type": "stream",
     "text": [
      "198.235.24.33 - - [02/Oct/2024 08:33:32] \"GET / HTTP/1.0\" 404 -\n",
      "89.197.172.90 - - [02/Oct/2024 09:20:32] \"OPTIONS /sentiment HTTP/1.1\" 200 -\n",
      "89.197.172.90 - - [02/Oct/2024 09:20:33] \"POST /sentiment HTTP/1.1\" 200 -\n"
     ]
    },
    {
     "name": "stdout",
     "output_type": "stream",
     "text": [
      "Score: 0.8999999761581421\n",
      "Magnitude: 0.8999999761581421\n"
     ]
    },
    {
     "name": "stderr",
     "output_type": "stream",
     "text": [
      "89.197.172.90 - - [02/Oct/2024 09:52:43] \"OPTIONS /sentiment HTTP/1.1\" 200 -\n",
      "89.197.172.90 - - [02/Oct/2024 09:52:44] \"POST /sentiment HTTP/1.1\" 200 -\n"
     ]
    },
    {
     "name": "stdout",
     "output_type": "stream",
     "text": [
      "Score: 0.0\n",
      "Magnitude: 0.0\n"
     ]
    },
    {
     "name": "stderr",
     "output_type": "stream",
     "text": [
      "89.197.172.90 - - [02/Oct/2024 09:52:49] \"OPTIONS /sentiment HTTP/1.1\" 200 -\n",
      "89.197.172.90 - - [02/Oct/2024 09:52:50] \"POST /sentiment HTTP/1.1\" 200 -\n"
     ]
    },
    {
     "name": "stdout",
     "output_type": "stream",
     "text": [
      "Score: 0.0\n",
      "Magnitude: 0.0\n"
     ]
    },
    {
     "name": "stderr",
     "output_type": "stream",
     "text": [
      "148.252.140.81 - - [02/Oct/2024 10:04:37] \"OPTIONS /sentiment HTTP/1.1\" 200 -\n",
      "148.252.140.81 - - [02/Oct/2024 10:04:38] \"POST /sentiment HTTP/1.1\" 200 -\n"
     ]
    },
    {
     "name": "stdout",
     "output_type": "stream",
     "text": [
      "Score: 0.30000001192092896\n",
      "Magnitude: 0.30000001192092896\n"
     ]
    },
    {
     "name": "stderr",
     "output_type": "stream",
     "text": [
      "80.82.70.133 - - [02/Oct/2024 10:57:59] \"GET / HTTP/1.0\" 404 -\n",
      "89.197.172.90 - - [02/Oct/2024 10:58:15] \"OPTIONS /sentiment HTTP/1.1\" 200 -\n",
      "89.197.172.90 - - [02/Oct/2024 10:58:15] \"POST /sentiment HTTP/1.1\" 200 -\n"
     ]
    },
    {
     "name": "stdout",
     "output_type": "stream",
     "text": [
      "Score: 0.0\n",
      "Magnitude: 0.0\n"
     ]
    },
    {
     "name": "stderr",
     "output_type": "stream",
     "text": [
      "5.8.11.202 - - [02/Oct/2024 10:58:17] code 400, message Bad request version ('À\\x14À')\n",
      "5.8.11.202 - - [02/Oct/2024 10:58:17] \"\\x16\\x03\\x01\\x00î\\x01\\x00\\x00ê\\x03\\x03d\\x96i\\x17\\x8d\\x87»\\x99|E¨+;\\x89\\x84\\x8e;\\x8f\\x19»®ä-e\\x9dÊ\\x8d¬\\x13éB\\x9c zý®^\\x01UB'KµÁn?Ë¦µ\\x84Æ\\x1fV Õ\\x02×tÀ\\x8b\\x86\\x1f4ä\\x13\\x00&Ì¨Ì©À/À0À+À,À\\x13À\\x09À\\x14À\" HTTPStatus.BAD_REQUEST -\n",
      "5.8.11.202 - - [02/Oct/2024 10:58:17] \"GET /v2/_catalog HTTP/1.1\" 404 -\n",
      "89.197.172.90 - - [02/Oct/2024 10:58:18] \"POST /sentiment HTTP/1.1\" 200 -\n"
     ]
    },
    {
     "name": "stdout",
     "output_type": "stream",
     "text": [
      "Score: 0.0\n",
      "Magnitude: 0.0\n"
     ]
    },
    {
     "name": "stderr",
     "output_type": "stream",
     "text": [
      "89.197.172.90 - - [02/Oct/2024 10:58:24] \"OPTIONS /sentiment HTTP/1.1\" 200 -\n",
      "89.197.172.90 - - [02/Oct/2024 10:58:24] \"POST /sentiment HTTP/1.1\" 200 -\n"
     ]
    },
    {
     "name": "stdout",
     "output_type": "stream",
     "text": [
      "Score: 0.10000000149011612\n",
      "Magnitude: 0.10000000149011612\n"
     ]
    },
    {
     "name": "stderr",
     "output_type": "stream",
     "text": [
      "89.197.172.90 - - [02/Oct/2024 10:58:30] \"OPTIONS /sentiment HTTP/1.1\" 200 -\n",
      "89.197.172.90 - - [02/Oct/2024 10:58:31] \"POST /sentiment HTTP/1.1\" 200 -\n"
     ]
    },
    {
     "name": "stdout",
     "output_type": "stream",
     "text": [
      "Score: 0.8999999761581421\n",
      "Magnitude: 0.8999999761581421\n"
     ]
    },
    {
     "name": "stderr",
     "output_type": "stream",
     "text": [
      "148.252.133.218 - - [02/Oct/2024 11:01:19] \"OPTIONS /sentiment HTTP/1.1\" 200 -\n",
      "148.252.133.218 - - [02/Oct/2024 11:01:19] \"POST /sentiment HTTP/1.1\" 200 -\n"
     ]
    },
    {
     "name": "stdout",
     "output_type": "stream",
     "text": [
      "Score: 0.10000000149011612\n",
      "Magnitude: 0.10000000149011612\n"
     ]
    },
    {
     "name": "stderr",
     "output_type": "stream",
     "text": [
      "148.252.133.218 - - [02/Oct/2024 11:01:44] \"OPTIONS /sentiment HTTP/1.1\" 200 -\n",
      "148.252.133.218 - - [02/Oct/2024 11:01:45] \"POST /sentiment HTTP/1.1\" 200 -\n"
     ]
    },
    {
     "name": "stdout",
     "output_type": "stream",
     "text": [
      "Score: 0.8999999761581421\n",
      "Magnitude: 0.8999999761581421\n"
     ]
    },
    {
     "name": "stderr",
     "output_type": "stream",
     "text": [
      "89.197.172.90 - - [02/Oct/2024 11:17:16] \"OPTIONS /sentiment HTTP/1.1\" 200 -\n",
      "89.197.172.90 - - [02/Oct/2024 11:17:16] \"POST /sentiment HTTP/1.1\" 200 -\n"
     ]
    },
    {
     "name": "stdout",
     "output_type": "stream",
     "text": [
      "Score: 0.8999999761581421\n",
      "Magnitude: 0.8999999761581421\n"
     ]
    },
    {
     "name": "stderr",
     "output_type": "stream",
     "text": [
      "89.197.172.90 - - [02/Oct/2024 11:18:37] \"OPTIONS /sentiment HTTP/1.1\" 200 -\n",
      "89.197.172.90 - - [02/Oct/2024 11:18:37] \"POST /sentiment HTTP/1.1\" 200 -\n"
     ]
    },
    {
     "name": "stdout",
     "output_type": "stream",
     "text": [
      "Score: 0.8999999761581421\n",
      "Magnitude: 0.8999999761581421\n"
     ]
    },
    {
     "name": "stderr",
     "output_type": "stream",
     "text": [
      "89.197.172.90 - - [02/Oct/2024 11:21:57] \"OPTIONS /sentiment HTTP/1.1\" 200 -\n",
      "89.197.172.90 - - [02/Oct/2024 11:21:57] \"POST /sentiment HTTP/1.1\" 200 -\n"
     ]
    },
    {
     "name": "stdout",
     "output_type": "stream",
     "text": [
      "Score: 0.8999999761581421\n",
      "Magnitude: 0.8999999761581421\n"
     ]
    },
    {
     "name": "stderr",
     "output_type": "stream",
     "text": [
      "184.105.139.67 - - [02/Oct/2024 11:45:30] \"GET / HTTP/1.1\" 404 -\n",
      "184.105.139.67 - - [02/Oct/2024 11:45:41] \"GET /favicon.ico HTTP/1.1\" 404 -\n",
      "51.254.0.2 - - [02/Oct/2024 12:28:07] \"GET / HTTP/1.1\" 404 -\n",
      "15.204.37.28 - - [02/Oct/2024 12:28:24] \"GET / HTTP/1.1\" 404 -\n",
      "89.197.172.90 - - [02/Oct/2024 12:46:58] \"OPTIONS /sentiment HTTP/1.1\" 200 -\n",
      "89.197.172.90 - - [02/Oct/2024 12:46:59] \"POST /sentiment HTTP/1.1\" 200 -\n"
     ]
    },
    {
     "name": "stdout",
     "output_type": "stream",
     "text": [
      "Score: 0.0\n",
      "Magnitude: 0.0\n"
     ]
    },
    {
     "name": "stderr",
     "output_type": "stream",
     "text": [
      "89.197.172.90 - - [02/Oct/2024 12:47:03] \"POST /sentiment HTTP/1.1\" 200 -\n"
     ]
    },
    {
     "name": "stdout",
     "output_type": "stream",
     "text": [
      "Score: 0.0\n",
      "Magnitude: 0.0\n"
     ]
    },
    {
     "name": "stderr",
     "output_type": "stream",
     "text": [
      "89.197.172.90 - - [02/Oct/2024 12:47:04] \"OPTIONS /sentiment HTTP/1.1\" 200 -\n",
      "89.197.172.90 - - [02/Oct/2024 12:47:05] \"POST /sentiment HTTP/1.1\" 200 -\n"
     ]
    },
    {
     "name": "stdout",
     "output_type": "stream",
     "text": [
      "Score: 0.0\n",
      "Magnitude: 0.0\n"
     ]
    },
    {
     "name": "stderr",
     "output_type": "stream",
     "text": [
      "89.197.172.90 - - [02/Oct/2024 12:47:05] \"POST /sentiment HTTP/1.1\" 200 -\n",
      "89.197.172.90 - - [02/Oct/2024 12:47:06] \"POST /sentiment HTTP/1.1\" 200 -\n"
     ]
    },
    {
     "name": "stdout",
     "output_type": "stream",
     "text": [
      "Score: 0.0\n",
      "Magnitude: 0.0\n",
      "Score: 0.0\n",
      "Magnitude: 0.0\n"
     ]
    },
    {
     "name": "stderr",
     "output_type": "stream",
     "text": [
      "89.197.172.90 - - [02/Oct/2024 12:47:06] \"POST /sentiment HTTP/1.1\" 200 -\n"
     ]
    },
    {
     "name": "stdout",
     "output_type": "stream",
     "text": [
      "Score: 0.0\n",
      "Magnitude: 0.0\n"
     ]
    },
    {
     "name": "stderr",
     "output_type": "stream",
     "text": [
      "89.197.172.90 - - [02/Oct/2024 12:47:12] \"OPTIONS /sentiment HTTP/1.1\" 200 -\n",
      "89.197.172.90 - - [02/Oct/2024 12:47:13] \"POST /sentiment HTTP/1.1\" 200 -\n"
     ]
    },
    {
     "name": "stdout",
     "output_type": "stream",
     "text": [
      "Score: 0.8999999761581421\n",
      "Magnitude: 0.8999999761581421\n"
     ]
    },
    {
     "name": "stderr",
     "output_type": "stream",
     "text": [
      "89.197.172.90 - - [02/Oct/2024 12:47:13] \"POST /sentiment HTTP/1.1\" 200 -\n"
     ]
    },
    {
     "name": "stdout",
     "output_type": "stream",
     "text": [
      "Score: 0.8999999761581421\n",
      "Magnitude: 0.8999999761581421\n"
     ]
    },
    {
     "name": "stderr",
     "output_type": "stream",
     "text": [
      "89.197.172.90 - - [02/Oct/2024 12:49:42] \"OPTIONS /sentiment HTTP/1.1\" 200 -\n",
      "89.197.172.90 - - [02/Oct/2024 12:49:42] \"POST /sentiment HTTP/1.1\" 200 -\n"
     ]
    },
    {
     "name": "stdout",
     "output_type": "stream",
     "text": [
      "Score: -0.8999999761581421\n",
      "Magnitude: 0.8999999761581421\n"
     ]
    },
    {
     "name": "stderr",
     "output_type": "stream",
     "text": [
      "89.197.172.90 - - [02/Oct/2024 12:49:47] \"POST /sentiment HTTP/1.1\" 200 -\n"
     ]
    },
    {
     "name": "stdout",
     "output_type": "stream",
     "text": [
      "Score: -0.8999999761581421\n",
      "Magnitude: 0.8999999761581421\n"
     ]
    },
    {
     "name": "stderr",
     "output_type": "stream",
     "text": [
      "89.197.172.90 - - [02/Oct/2024 12:49:54] \"OPTIONS /sentiment HTTP/1.1\" 200 -\n",
      "89.197.172.90 - - [02/Oct/2024 12:49:54] \"POST /sentiment HTTP/1.1\" 200 -\n"
     ]
    },
    {
     "name": "stdout",
     "output_type": "stream",
     "text": [
      "Score: -0.8999999761581421\n",
      "Magnitude: 0.8999999761581421\n"
     ]
    },
    {
     "name": "stderr",
     "output_type": "stream",
     "text": [
      "89.197.172.90 - - [02/Oct/2024 12:49:58] \"POST /sentiment HTTP/1.1\" 200 -\n"
     ]
    },
    {
     "name": "stdout",
     "output_type": "stream",
     "text": [
      "Score: -0.8999999761581421\n",
      "Magnitude: 0.8999999761581421\n"
     ]
    },
    {
     "name": "stderr",
     "output_type": "stream",
     "text": [
      "89.197.172.90 - - [02/Oct/2024 12:50:20] \"POST /sentiment HTTP/1.1\" 200 -\n"
     ]
    },
    {
     "name": "stdout",
     "output_type": "stream",
     "text": [
      "Score: 0.8999999761581421\n",
      "Magnitude: 0.8999999761581421\n"
     ]
    },
    {
     "name": "stderr",
     "output_type": "stream",
     "text": [
      "89.197.172.90 - - [02/Oct/2024 12:50:23] \"POST /sentiment HTTP/1.1\" 200 -\n"
     ]
    },
    {
     "name": "stdout",
     "output_type": "stream",
     "text": [
      "Score: 0.8999999761581421\n",
      "Magnitude: 0.8999999761581421\n"
     ]
    },
    {
     "name": "stderr",
     "output_type": "stream",
     "text": [
      "89.197.172.90 - - [02/Oct/2024 13:06:18] \"OPTIONS /sentiment HTTP/1.1\" 200 -\n",
      "89.197.172.90 - - [02/Oct/2024 13:06:18] \"POST /sentiment HTTP/1.1\" 200 -\n"
     ]
    },
    {
     "name": "stdout",
     "output_type": "stream",
     "text": [
      "Score: -0.800000011920929\n",
      "Magnitude: 0.800000011920929\n"
     ]
    },
    {
     "name": "stderr",
     "output_type": "stream",
     "text": [
      "89.197.172.90 - - [02/Oct/2024 13:06:27] \"OPTIONS /sentiment HTTP/1.1\" 200 -\n",
      "89.197.172.90 - - [02/Oct/2024 13:06:28] \"POST /sentiment HTTP/1.1\" 200 -\n"
     ]
    },
    {
     "name": "stdout",
     "output_type": "stream",
     "text": [
      "Score: -0.800000011920929\n",
      "Magnitude: 0.800000011920929\n"
     ]
    },
    {
     "name": "stderr",
     "output_type": "stream",
     "text": [
      "89.197.172.90 - - [02/Oct/2024 13:06:50] \"OPTIONS /sentiment HTTP/1.1\" 200 -\n",
      "89.197.172.90 - - [02/Oct/2024 13:06:50] \"POST /sentiment HTTP/1.1\" 200 -\n"
     ]
    },
    {
     "name": "stdout",
     "output_type": "stream",
     "text": [
      "Score: -0.800000011920929\n",
      "Magnitude: 0.800000011920929\n"
     ]
    },
    {
     "name": "stderr",
     "output_type": "stream",
     "text": [
      "89.197.172.90 - - [02/Oct/2024 13:07:01] \"OPTIONS /sentiment HTTP/1.1\" 200 -\n",
      "89.197.172.90 - - [02/Oct/2024 13:07:02] \"POST /sentiment HTTP/1.1\" 200 -\n"
     ]
    },
    {
     "name": "stdout",
     "output_type": "stream",
     "text": [
      "Score: 0.8999999761581421\n",
      "Magnitude: 0.8999999761581421\n"
     ]
    },
    {
     "name": "stderr",
     "output_type": "stream",
     "text": [
      "89.197.172.90 - - [02/Oct/2024 13:08:43] \"OPTIONS /sentiment HTTP/1.1\" 200 -\n",
      "89.197.172.90 - - [02/Oct/2024 13:08:44] \"POST /sentiment HTTP/1.1\" 200 -\n"
     ]
    },
    {
     "name": "stdout",
     "output_type": "stream",
     "text": [
      "Score: 0.8999999761581421\n",
      "Magnitude: 0.8999999761581421\n"
     ]
    },
    {
     "name": "stderr",
     "output_type": "stream",
     "text": [
      "89.197.172.90 - - [02/Oct/2024 13:08:48] \"OPTIONS /sentiment HTTP/1.1\" 200 -\n",
      "89.197.172.90 - - [02/Oct/2024 13:08:49] \"POST /sentiment HTTP/1.1\" 200 -\n"
     ]
    },
    {
     "name": "stdout",
     "output_type": "stream",
     "text": [
      "Score: -0.8999999761581421\n",
      "Magnitude: 0.8999999761581421\n"
     ]
    },
    {
     "name": "stderr",
     "output_type": "stream",
     "text": [
      "89.197.172.90 - - [02/Oct/2024 13:08:51] \"POST /sentiment HTTP/1.1\" 200 -\n"
     ]
    },
    {
     "name": "stdout",
     "output_type": "stream",
     "text": [
      "Score: -0.8999999761581421\n",
      "Magnitude: 0.8999999761581421\n"
     ]
    },
    {
     "name": "stderr",
     "output_type": "stream",
     "text": [
      "89.197.172.90 - - [02/Oct/2024 13:52:50] \"OPTIONS /sentiment HTTP/1.1\" 200 -\n",
      "89.197.172.90 - - [02/Oct/2024 13:52:52] \"POST /sentiment HTTP/1.1\" 200 -\n"
     ]
    },
    {
     "name": "stdout",
     "output_type": "stream",
     "text": [
      "Score: 0.0\n",
      "Magnitude: 0.0\n"
     ]
    },
    {
     "name": "stderr",
     "output_type": "stream",
     "text": [
      "89.197.172.90 - - [02/Oct/2024 13:52:56] \"POST /sentiment HTTP/1.1\" 200 -\n"
     ]
    },
    {
     "name": "stdout",
     "output_type": "stream",
     "text": [
      "Score: -0.8999999761581421\n",
      "Magnitude: 0.8999999761581421\n"
     ]
    },
    {
     "name": "stderr",
     "output_type": "stream",
     "text": [
      "89.197.172.90 - - [02/Oct/2024 14:20:11] \"OPTIONS /sentiment HTTP/1.1\" 200 -\n",
      "89.197.172.90 - - [02/Oct/2024 14:20:12] \"POST /sentiment HTTP/1.1\" 200 -\n"
     ]
    },
    {
     "name": "stdout",
     "output_type": "stream",
     "text": [
      "Score: 0.0\n",
      "Magnitude: 0.0\n"
     ]
    },
    {
     "name": "stderr",
     "output_type": "stream",
     "text": [
      "89.197.172.90 - - [02/Oct/2024 14:20:16] \"POST /sentiment HTTP/1.1\" 200 -\n"
     ]
    },
    {
     "name": "stdout",
     "output_type": "stream",
     "text": [
      "Score: 0.8999999761581421\n",
      "Magnitude: 0.8999999761581421\n"
     ]
    },
    {
     "name": "stderr",
     "output_type": "stream",
     "text": [
      "89.197.172.90 - - [02/Oct/2024 14:20:21] \"OPTIONS /sentiment HTTP/1.1\" 200 -\n",
      "89.197.172.90 - - [02/Oct/2024 14:20:22] \"POST /sentiment HTTP/1.1\" 200 -\n"
     ]
    },
    {
     "name": "stdout",
     "output_type": "stream",
     "text": [
      "Score: -0.8999999761581421\n",
      "Magnitude: 0.8999999761581421\n"
     ]
    },
    {
     "name": "stderr",
     "output_type": "stream",
     "text": [
      "89.197.172.90 - - [02/Oct/2024 14:20:27] \"POST /sentiment HTTP/1.1\" 200 -\n"
     ]
    },
    {
     "name": "stdout",
     "output_type": "stream",
     "text": [
      "Score: -0.8999999761581421\n",
      "Magnitude: 0.8999999761581421\n"
     ]
    },
    {
     "name": "stderr",
     "output_type": "stream",
     "text": [
      "89.197.172.90 - - [02/Oct/2024 14:20:34] \"OPTIONS /sentiment HTTP/1.1\" 200 -\n",
      "89.197.172.90 - - [02/Oct/2024 14:20:35] \"POST /sentiment HTTP/1.1\" 200 -\n"
     ]
    },
    {
     "name": "stdout",
     "output_type": "stream",
     "text": [
      "Score: -0.8999999761581421\n",
      "Magnitude: 0.8999999761581421\n"
     ]
    },
    {
     "name": "stderr",
     "output_type": "stream",
     "text": [
      "89.197.172.90 - - [02/Oct/2024 14:25:07] \"OPTIONS /sentiment HTTP/1.1\" 200 -\n",
      "89.197.172.90 - - [02/Oct/2024 14:25:09] \"POST /sentiment HTTP/1.1\" 200 -\n"
     ]
    },
    {
     "name": "stdout",
     "output_type": "stream",
     "text": [
      "Score: -0.8999999761581421\n",
      "Magnitude: 0.8999999761581421\n"
     ]
    },
    {
     "name": "stderr",
     "output_type": "stream",
     "text": [
      "89.197.172.90 - - [02/Oct/2024 14:26:55] \"OPTIONS /sentiment HTTP/1.1\" 200 -\n",
      "89.197.172.90 - - [02/Oct/2024 14:26:57] \"POST /sentiment HTTP/1.1\" 200 -\n"
     ]
    },
    {
     "name": "stdout",
     "output_type": "stream",
     "text": [
      "Score: 0.0\n",
      "Magnitude: 0.0\n"
     ]
    }
   ],
   "source": [
    "\n",
    "\n",
    "    "
   ]
  },
  {
   "cell_type": "code",
   "execution_count": null,
   "id": "73c1a33b-ae8f-43fb-add8-46f0151bfe5f",
   "metadata": {},
   "outputs": [],
   "source": []
  }
 ],
 "metadata": {
  "environment": {
   "kernel": "python3",
   "name": "tf2-cpu.2-11.m125",
   "type": "gcloud",
   "uri": "us-docker.pkg.dev/deeplearning-platform-release/gcr.io/tf2-cpu.2-11:m125"
  },
  "kernelspec": {
   "display_name": "Python 3",
   "language": "python",
   "name": "python3"
  },
  "language_info": {
   "codemirror_mode": {
    "name": "ipython",
    "version": 3
   },
   "file_extension": ".py",
   "mimetype": "text/x-python",
   "name": "python",
   "nbconvert_exporter": "python",
   "pygments_lexer": "ipython3",
   "version": "3.10.15"
  }
 },
 "nbformat": 4,
 "nbformat_minor": 5
}
